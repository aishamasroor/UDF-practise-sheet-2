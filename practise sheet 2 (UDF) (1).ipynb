{
 "cells": [
  {
   "cell_type": "markdown",
   "metadata": {},
   "source": [
    "# Question 1:"
   ]
  },
  {
   "cell_type": "code",
   "execution_count": 19,
   "metadata": {},
   "outputs": [
    {
     "data": {
      "text/plain": [
       "2.25"
      ]
     },
     "execution_count": 19,
     "metadata": {},
     "output_type": "execute_result"
    }
   ],
   "source": [
    "def area(l,b):\n",
    "    a = 1/2*(l*b)    \n",
    "    return a\n",
    "area(3,1.5)\n",
    "\n"
   ]
  },
  {
   "cell_type": "markdown",
   "metadata": {},
   "source": [
    "# Question 2"
   ]
  },
  {
   "cell_type": "code",
   "execution_count": 29,
   "metadata": {},
   "outputs": [
    {
     "name": "stdout",
     "output_type": "stream",
     "text": [
      "ali\n"
     ]
    }
   ],
   "source": [
    "a = {'Abbu':'masroor','ammi':'aliya','brother_1':'murtaza','brother_2':'ali','sister':'maria'}\n",
    "def find_relation():\n",
    "    if find_relation:\n",
    "        print(a[\"brother_2\"])\n",
    "    else:\n",
    "        print(\"sorry\")\n",
    "find_relation()"
   ]
  },
  {
   "cell_type": "markdown",
   "metadata": {},
   "source": [
    "# Question 3"
   ]
  },
  {
   "cell_type": "code",
   "execution_count": 30,
   "metadata": {},
   "outputs": [
    {
     "data": {
      "text/plain": [
       "5.625"
      ]
     },
     "execution_count": 30,
     "metadata": {},
     "output_type": "execute_result"
    }
   ],
   "source": [
    "def area(l,b):\n",
    "    a=1/2*(l*b)\n",
    "    return a\n",
    "area(5,2.25)"
   ]
  },
  {
   "cell_type": "markdown",
   "metadata": {},
   "source": [
    "# Question 5"
   ]
  },
  {
   "cell_type": "code",
   "execution_count": 33,
   "metadata": {},
   "outputs": [
    {
     "name": "stdout",
     "output_type": "stream",
     "text": [
      "sorted list: [(6, 2), (3, 4), (1, 5), (7, 9)]\n"
     ]
    }
   ],
   "source": [
    "def random(elem):\n",
    "    return elem[1]\n",
    "lst=[(1,5),(7,9),(3,4),(6,2)]\n",
    "lst.sort(key = random)\n",
    "print('sorted list:',lst)\n",
    "    "
   ]
  },
  {
   "cell_type": "markdown",
   "metadata": {},
   "source": [
    "# Question 6"
   ]
  },
  {
   "cell_type": "code",
   "execution_count": 35,
   "metadata": {},
   "outputs": [
    {
     "data": {
      "text/plain": [
       "254.46900494077323"
      ]
     },
     "execution_count": 35,
     "metadata": {},
     "output_type": "execute_result"
    }
   ],
   "source": [
    "import math\n",
    "def area(radius,percentage):\n",
    "    a=math.pi*radius**2\n",
    "    return a\n",
    "area(9,+46)"
   ]
  },
  {
   "cell_type": "markdown",
   "metadata": {},
   "source": [
    "# Question 7"
   ]
  },
  {
   "cell_type": "code",
   "execution_count": 37,
   "metadata": {},
   "outputs": [
    {
     "name": "stdout",
     "output_type": "stream",
     "text": [
      "4\n",
      "['e', 'i', 'o', 'u']\n"
     ]
    }
   ],
   "source": [
    "def check_vow(string,vowels):\n",
    "    string=[each for each in string if each in vowels]\n",
    "    print(len(string))\n",
    "    print(string)\n",
    "string1=\"serious\"\n",
    "vowels=\"AEIOUaeiou\"\n",
    "check_vow(string1,vowels)"
   ]
  },
  {
   "cell_type": "markdown",
   "metadata": {},
   "source": [
    "# Question 8"
   ]
  },
  {
   "cell_type": "code",
   "execution_count": 50,
   "metadata": {},
   "outputs": [
    {
     "ename": "SyntaxError",
     "evalue": "invalid syntax (<ipython-input-50-c4ce66de0849>, line 1)",
     "output_type": "error",
     "traceback": [
      "\u001b[1;36m  File \u001b[1;32m\"<ipython-input-50-c4ce66de0849>\"\u001b[1;36m, line \u001b[1;32m1\u001b[0m\n\u001b[1;33m    def area(breadth,length+increment):\u001b[0m\n\u001b[1;37m                           ^\u001b[0m\n\u001b[1;31mSyntaxError\u001b[0m\u001b[1;31m:\u001b[0m invalid syntax\n"
     ]
    }
   ],
   "source": [
    "def area(breadth,length+increment):\n",
    "    a=breadth * length\n",
    "    return a\n",
    "area(4,2+8)\n",
    "    \n",
    "    \n"
   ]
  },
  {
   "cell_type": "markdown",
   "metadata": {},
   "source": [
    "# question 9"
   ]
  },
  {
   "cell_type": "code",
   "execution_count": 40,
   "metadata": {},
   "outputs": [
    {
     "name": "stdout",
     "output_type": "stream",
     "text": [
      "even lists: [90]\n",
      "odd lists: [3, 7, 85, 23]\n"
     ]
    }
   ],
   "source": [
    "def split(mix):\n",
    "    ev_li=[]\n",
    "    od_li=[]\n",
    "    for i in mix:\n",
    "        if (i % 2==0):\n",
    "            ev_li.append(i)\n",
    "        else:\n",
    "                od_li.append(i)\n",
    "    print(\"even lists:\",ev_li)\n",
    "    print(\"odd lists:\",od_li)\n",
    "mix=[3,7,85,23,90]\n",
    "split(mix)"
   ]
  },
  {
   "cell_type": "markdown",
   "metadata": {},
   "source": [
    "# Question 10"
   ]
  },
  {
   "cell_type": "code",
   "execution_count": 41,
   "metadata": {},
   "outputs": [
    {
     "name": "stdout",
     "output_type": "stream",
     "text": [
      "3\n",
      "bcdefgijklnopqrstuvwxyz\n"
     ]
    }
   ],
   "source": [
    "x=\"maham\"\n",
    "n=0\n",
    "y=\"abcdefghijklmnopqrstuvwxyz\"\n",
    "for i in x:\n",
    "    if i in y:\n",
    "        y=y.replace(i,\"\")\n",
    "        n +=1\n",
    "print(n)\n",
    "print(y)"
   ]
  },
  {
   "cell_type": "markdown",
   "metadata": {},
   "source": [
    "# Question 11"
   ]
  },
  {
   "cell_type": "code",
   "execution_count": 46,
   "metadata": {},
   "outputs": [
    {
     "name": "stdout",
     "output_type": "stream",
     "text": [
      "colly\n",
      "cololy\n",
      "colourly\n"
     ]
    }
   ],
   "source": [
    "def add_ing(str2):\n",
    "    length=len(str2)\n",
    "    if length > 2:\n",
    "        if str2 [-2]:\n",
    "            str2 +='ly'\n",
    "        else:\n",
    "            str2 += 'ing'\n",
    "    return str2\n",
    "print(add_ing('col'))\n",
    "print(add_ing('colo'))\n",
    "print(add_ing('colour'))\n",
    "         "
   ]
  },
  {
   "cell_type": "code",
   "execution_count": null,
   "metadata": {},
   "outputs": [],
   "source": []
  }
 ],
 "metadata": {
  "kernelspec": {
   "display_name": "Python 3",
   "language": "python",
   "name": "python3"
  },
  "language_info": {
   "codemirror_mode": {
    "name": "ipython",
    "version": 3
   },
   "file_extension": ".py",
   "mimetype": "text/x-python",
   "name": "python",
   "nbconvert_exporter": "python",
   "pygments_lexer": "ipython3",
   "version": "3.7.4"
  }
 },
 "nbformat": 4,
 "nbformat_minor": 2
}
